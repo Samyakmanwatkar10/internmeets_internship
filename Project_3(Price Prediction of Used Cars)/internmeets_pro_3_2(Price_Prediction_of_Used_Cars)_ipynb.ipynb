{
  "cells": [
    {
      "cell_type": "code",
      "execution_count": 1,
      "metadata": {
        "id": "lBjHS8XTplLZ"
      },
      "outputs": [],
      "source": [
        "import pandas as pd\n",
        "from sklearn.model_selection import train_test_split\n",
        "from sklearn.ensemble import RandomForestRegressor\n",
        "from sklearn.metrics import mean_absolute_error, mean_squared_error, r2_score\n",
        "from sklearn.preprocessing import StandardScaler, OneHotEncoder\n",
        "from sklearn.compose import ColumnTransformer\n",
        "from sklearn.pipeline import Pipeline\n",
        "from sklearn.impute import SimpleImputer"
      ]
    },
    {
      "cell_type": "code",
      "execution_count": 2,
      "metadata": {
        "id": "O_JCm5lxpy25"
      },
      "outputs": [],
      "source": [
        "# Step 1: Data Collection\n",
        "df = pd.read_csv('/content/vehicles.csv')\n",
        "data=df.sample(2000)"
      ]
    },
    {
      "cell_type": "code",
      "execution_count": 3,
      "metadata": {
        "colab": {
          "base_uri": "https://localhost:8080/"
        },
        "id": "FpUOgiriqI0Q",
        "outputId": "165e5f21-8c81-45cf-ef4a-4dffafa66cc6"
      },
      "outputs": [
        {
          "output_type": "stream",
          "name": "stdout",
          "text": [
            "<class 'pandas.core.frame.DataFrame'>\n",
            "Index: 2000 entries, 195401 to 350121\n",
            "Data columns (total 26 columns):\n",
            " #   Column        Non-Null Count  Dtype  \n",
            "---  ------        --------------  -----  \n",
            " 0   id            2000 non-null   int64  \n",
            " 1   url           2000 non-null   object \n",
            " 2   region        2000 non-null   object \n",
            " 3   region_url    2000 non-null   object \n",
            " 4   price         2000 non-null   int64  \n",
            " 5   year          1992 non-null   float64\n",
            " 6   manufacturer  1909 non-null   object \n",
            " 7   model         1977 non-null   object \n",
            " 8   condition     1183 non-null   object \n",
            " 9   cylinders     1195 non-null   object \n",
            " 10  fuel          1991 non-null   object \n",
            " 11  odometer      1982 non-null   float64\n",
            " 12  title_status  1959 non-null   object \n",
            " 13  transmission  1989 non-null   object \n",
            " 14  VIN           1264 non-null   object \n",
            " 15  drive         1393 non-null   object \n",
            " 16  size          578 non-null    object \n",
            " 17  type          1569 non-null   object \n",
            " 18  paint_color   1416 non-null   object \n",
            " 19  image_url     2000 non-null   object \n",
            " 20  description   2000 non-null   object \n",
            " 21  county        0 non-null      float64\n",
            " 22  state         2000 non-null   object \n",
            " 23  lat           1974 non-null   float64\n",
            " 24  long          1974 non-null   float64\n",
            " 25  posting_date  2000 non-null   object \n",
            "dtypes: float64(5), int64(2), object(19)\n",
            "memory usage: 421.9+ KB\n",
            "None\n"
          ]
        }
      ],
      "source": [
        "# Step 2: Data Exploration and Preprocessing\n",
        "print(data.info())  # Check the structure of the dataset"
      ]
    },
    {
      "cell_type": "code",
      "execution_count": 4,
      "metadata": {
        "colab": {
          "base_uri": "https://localhost:8080/"
        },
        "id": "lDiEhgymqRRv",
        "outputId": "e027fd57-4934-4d19-fdc4-6a78f0aff315"
      },
      "outputs": [
        {
          "output_type": "stream",
          "name": "stdout",
          "text": [
            "                 id          price         year      odometer  county  \\\n",
            "count  2.000000e+03    2000.000000  1992.000000  1.982000e+03     0.0   \n",
            "mean   7.311443e+09   17512.074000  2010.969378  9.780799e+04     NaN   \n",
            "std    4.448566e+06   15915.545323    10.330868  2.335271e+05     NaN   \n",
            "min    7.301594e+09       0.000000  1929.000000  0.000000e+00     NaN   \n",
            "25%    7.307941e+09    5950.000000  2008.000000  3.791425e+04     NaN   \n",
            "50%    7.312513e+09   13697.500000  2013.000000  8.716200e+04     NaN   \n",
            "75%    7.315279e+09   26968.500000  2017.000000  1.325675e+05     NaN   \n",
            "max    7.317087e+09  227995.000000  2022.000000  1.000000e+07     NaN   \n",
            "\n",
            "               lat         long  \n",
            "count  1974.000000  1974.000000  \n",
            "mean     38.720097   -94.847800  \n",
            "std       6.070520    18.302205  \n",
            "min      19.725342  -158.030906  \n",
            "25%      34.903495  -111.935911  \n",
            "50%      39.675190   -88.930000  \n",
            "75%      42.623488   -81.229050  \n",
            "max      64.815520   -67.840490  \n"
          ]
        }
      ],
      "source": [
        "print(data.describe())  # Summary statistics"
      ]
    },
    {
      "cell_type": "code",
      "execution_count": 5,
      "metadata": {
        "colab": {
          "base_uri": "https://localhost:8080/"
        },
        "id": "COCRfGx5qaGW",
        "outputId": "28278b83-0667-413c-bdee-3abeaa885184"
      },
      "outputs": [
        {
          "output_type": "stream",
          "name": "stdout",
          "text": [
            "id                 0\n",
            "url                0\n",
            "region             0\n",
            "region_url         0\n",
            "price              0\n",
            "year               8\n",
            "manufacturer      91\n",
            "model             23\n",
            "condition        817\n",
            "cylinders        805\n",
            "fuel               9\n",
            "odometer          18\n",
            "title_status      41\n",
            "transmission      11\n",
            "VIN              736\n",
            "drive            607\n",
            "size            1422\n",
            "type             431\n",
            "paint_color      584\n",
            "image_url          0\n",
            "description        0\n",
            "county          2000\n",
            "state              0\n",
            "lat               26\n",
            "long              26\n",
            "posting_date       0\n",
            "dtype: int64\n"
          ]
        }
      ],
      "source": [
        "print(data.isnull().sum())  # Identify missing values"
      ]
    },
    {
      "cell_type": "code",
      "execution_count": 6,
      "metadata": {
        "id": "KEV5-NWBqceX"
      },
      "outputs": [],
      "source": [
        "# Define features\n",
        "categorical_features = ['manufacturer', 'model', 'condition', 'cylinders', 'fuel', 'title_status', 'transmission', 'drive', 'size', 'type', 'paint_color', 'state']\n",
        "numerical_features = ['odometer', 'year']"
      ]
    },
    {
      "cell_type": "code",
      "execution_count": 7,
      "metadata": {
        "id": "HEWwNd9RqlBl"
      },
      "outputs": [],
      "source": [
        "# Define preprocessing for numerical and categorical features\n",
        "numerical_pipeline = Pipeline(steps=[\n",
        "    ('imputer', SimpleImputer(strategy='mean')),  # Fill missing values with mean\n",
        "    ('scaler', StandardScaler())  # Scale numerical features\n",
        "])\n",
        "\n",
        "categorical_pipeline = Pipeline(steps=[\n",
        "    ('imputer', SimpleImputer(strategy='most_frequent')),  # Fill missing values with most frequent value\n",
        "    ('onehot', OneHotEncoder(handle_unknown='ignore', drop='first'))  # One-hot encode categorical features\n",
        "])\n",
        "\n",
        "preprocessor = ColumnTransformer(\n",
        "    transformers=[\n",
        "        ('num', numerical_pipeline, numerical_features),\n",
        "        ('cat', categorical_pipeline, categorical_features)\n",
        "    ]\n",
        ")"
      ]
    },
    {
      "cell_type": "code",
      "execution_count": 8,
      "metadata": {
        "id": "Wj6ZceuCqwa1"
      },
      "outputs": [],
      "source": [
        "# Separate features and target variable\n",
        "X = data.drop(columns=['price', 'id', 'url', 'region', 'region_url', 'VIN', 'image_url', 'description', 'county', 'lat', 'long', 'posting_date'])\n",
        "y = data['price']"
      ]
    },
    {
      "cell_type": "code",
      "execution_count": 9,
      "metadata": {
        "id": "hX8pw4aBrVol"
      },
      "outputs": [],
      "source": [
        "# Create a pipeline that combines preprocessing with the model\n",
        "model_pipeline = Pipeline(steps=[\n",
        "    ('preprocessor', preprocessor),\n",
        "    ('model', RandomForestRegressor(random_state=42))\n",
        "])"
      ]
    },
    {
      "cell_type": "code",
      "execution_count": 10,
      "metadata": {
        "id": "jdXZRF5ArbPU"
      },
      "outputs": [],
      "source": [
        "# Split the dataset\n",
        "X_train, X_test, y_train, y_test = train_test_split(X, y, test_size=0.2, random_state=42)"
      ]
    },
    {
      "cell_type": "code",
      "execution_count": 11,
      "metadata": {
        "colab": {
          "base_uri": "https://localhost:8080/",
          "height": 228
        },
        "id": "mo1zddjRreIU",
        "outputId": "2e90d10a-cc21-4a7f-b117-0d0baabe7501"
      },
      "outputs": [
        {
          "output_type": "execute_result",
          "data": {
            "text/plain": [
              "Pipeline(steps=[('preprocessor',\n",
              "                 ColumnTransformer(transformers=[('num',\n",
              "                                                  Pipeline(steps=[('imputer',\n",
              "                                                                   SimpleImputer()),\n",
              "                                                                  ('scaler',\n",
              "                                                                   StandardScaler())]),\n",
              "                                                  ['odometer', 'year']),\n",
              "                                                 ('cat',\n",
              "                                                  Pipeline(steps=[('imputer',\n",
              "                                                                   SimpleImputer(strategy='most_frequent')),\n",
              "                                                                  ('onehot',\n",
              "                                                                   OneHotEncoder(drop='first',\n",
              "                                                                                 handle_unknown='ignore'))]),\n",
              "                                                  ['manufacturer', 'model',\n",
              "                                                   'condition', 'cylinders',\n",
              "                                                   'fuel', 'title_status',\n",
              "                                                   'transmission', 'drive',\n",
              "                                                   'size', 'type',\n",
              "                                                   'paint_color', 'state'])])),\n",
              "                ('model', RandomForestRegressor(random_state=42))])"
            ],
            "text/html": [
              "<style>#sk-container-id-1 {color: black;background-color: white;}#sk-container-id-1 pre{padding: 0;}#sk-container-id-1 div.sk-toggleable {background-color: white;}#sk-container-id-1 label.sk-toggleable__label {cursor: pointer;display: block;width: 100%;margin-bottom: 0;padding: 0.3em;box-sizing: border-box;text-align: center;}#sk-container-id-1 label.sk-toggleable__label-arrow:before {content: \"▸\";float: left;margin-right: 0.25em;color: #696969;}#sk-container-id-1 label.sk-toggleable__label-arrow:hover:before {color: black;}#sk-container-id-1 div.sk-estimator:hover label.sk-toggleable__label-arrow:before {color: black;}#sk-container-id-1 div.sk-toggleable__content {max-height: 0;max-width: 0;overflow: hidden;text-align: left;background-color: #f0f8ff;}#sk-container-id-1 div.sk-toggleable__content pre {margin: 0.2em;color: black;border-radius: 0.25em;background-color: #f0f8ff;}#sk-container-id-1 input.sk-toggleable__control:checked~div.sk-toggleable__content {max-height: 200px;max-width: 100%;overflow: auto;}#sk-container-id-1 input.sk-toggleable__control:checked~label.sk-toggleable__label-arrow:before {content: \"▾\";}#sk-container-id-1 div.sk-estimator input.sk-toggleable__control:checked~label.sk-toggleable__label {background-color: #d4ebff;}#sk-container-id-1 div.sk-label input.sk-toggleable__control:checked~label.sk-toggleable__label {background-color: #d4ebff;}#sk-container-id-1 input.sk-hidden--visually {border: 0;clip: rect(1px 1px 1px 1px);clip: rect(1px, 1px, 1px, 1px);height: 1px;margin: -1px;overflow: hidden;padding: 0;position: absolute;width: 1px;}#sk-container-id-1 div.sk-estimator {font-family: monospace;background-color: #f0f8ff;border: 1px dotted black;border-radius: 0.25em;box-sizing: border-box;margin-bottom: 0.5em;}#sk-container-id-1 div.sk-estimator:hover {background-color: #d4ebff;}#sk-container-id-1 div.sk-parallel-item::after {content: \"\";width: 100%;border-bottom: 1px solid gray;flex-grow: 1;}#sk-container-id-1 div.sk-label:hover label.sk-toggleable__label {background-color: #d4ebff;}#sk-container-id-1 div.sk-serial::before {content: \"\";position: absolute;border-left: 1px solid gray;box-sizing: border-box;top: 0;bottom: 0;left: 50%;z-index: 0;}#sk-container-id-1 div.sk-serial {display: flex;flex-direction: column;align-items: center;background-color: white;padding-right: 0.2em;padding-left: 0.2em;position: relative;}#sk-container-id-1 div.sk-item {position: relative;z-index: 1;}#sk-container-id-1 div.sk-parallel {display: flex;align-items: stretch;justify-content: center;background-color: white;position: relative;}#sk-container-id-1 div.sk-item::before, #sk-container-id-1 div.sk-parallel-item::before {content: \"\";position: absolute;border-left: 1px solid gray;box-sizing: border-box;top: 0;bottom: 0;left: 50%;z-index: -1;}#sk-container-id-1 div.sk-parallel-item {display: flex;flex-direction: column;z-index: 1;position: relative;background-color: white;}#sk-container-id-1 div.sk-parallel-item:first-child::after {align-self: flex-end;width: 50%;}#sk-container-id-1 div.sk-parallel-item:last-child::after {align-self: flex-start;width: 50%;}#sk-container-id-1 div.sk-parallel-item:only-child::after {width: 0;}#sk-container-id-1 div.sk-dashed-wrapped {border: 1px dashed gray;margin: 0 0.4em 0.5em 0.4em;box-sizing: border-box;padding-bottom: 0.4em;background-color: white;}#sk-container-id-1 div.sk-label label {font-family: monospace;font-weight: bold;display: inline-block;line-height: 1.2em;}#sk-container-id-1 div.sk-label-container {text-align: center;}#sk-container-id-1 div.sk-container {/* jupyter's `normalize.less` sets `[hidden] { display: none; }` but bootstrap.min.css set `[hidden] { display: none !important; }` so we also need the `!important` here to be able to override the default hidden behavior on the sphinx rendered scikit-learn.org. See: https://github.com/scikit-learn/scikit-learn/issues/21755 */display: inline-block !important;position: relative;}#sk-container-id-1 div.sk-text-repr-fallback {display: none;}</style><div id=\"sk-container-id-1\" class=\"sk-top-container\"><div class=\"sk-text-repr-fallback\"><pre>Pipeline(steps=[(&#x27;preprocessor&#x27;,\n",
              "                 ColumnTransformer(transformers=[(&#x27;num&#x27;,\n",
              "                                                  Pipeline(steps=[(&#x27;imputer&#x27;,\n",
              "                                                                   SimpleImputer()),\n",
              "                                                                  (&#x27;scaler&#x27;,\n",
              "                                                                   StandardScaler())]),\n",
              "                                                  [&#x27;odometer&#x27;, &#x27;year&#x27;]),\n",
              "                                                 (&#x27;cat&#x27;,\n",
              "                                                  Pipeline(steps=[(&#x27;imputer&#x27;,\n",
              "                                                                   SimpleImputer(strategy=&#x27;most_frequent&#x27;)),\n",
              "                                                                  (&#x27;onehot&#x27;,\n",
              "                                                                   OneHotEncoder(drop=&#x27;first&#x27;,\n",
              "                                                                                 handle_unknown=&#x27;ignore&#x27;))]),\n",
              "                                                  [&#x27;manufacturer&#x27;, &#x27;model&#x27;,\n",
              "                                                   &#x27;condition&#x27;, &#x27;cylinders&#x27;,\n",
              "                                                   &#x27;fuel&#x27;, &#x27;title_status&#x27;,\n",
              "                                                   &#x27;transmission&#x27;, &#x27;drive&#x27;,\n",
              "                                                   &#x27;size&#x27;, &#x27;type&#x27;,\n",
              "                                                   &#x27;paint_color&#x27;, &#x27;state&#x27;])])),\n",
              "                (&#x27;model&#x27;, RandomForestRegressor(random_state=42))])</pre><b>In a Jupyter environment, please rerun this cell to show the HTML representation or trust the notebook. <br />On GitHub, the HTML representation is unable to render, please try loading this page with nbviewer.org.</b></div><div class=\"sk-container\" hidden><div class=\"sk-item sk-dashed-wrapped\"><div class=\"sk-label-container\"><div class=\"sk-label sk-toggleable\"><input class=\"sk-toggleable__control sk-hidden--visually\" id=\"sk-estimator-id-1\" type=\"checkbox\" ><label for=\"sk-estimator-id-1\" class=\"sk-toggleable__label sk-toggleable__label-arrow\">Pipeline</label><div class=\"sk-toggleable__content\"><pre>Pipeline(steps=[(&#x27;preprocessor&#x27;,\n",
              "                 ColumnTransformer(transformers=[(&#x27;num&#x27;,\n",
              "                                                  Pipeline(steps=[(&#x27;imputer&#x27;,\n",
              "                                                                   SimpleImputer()),\n",
              "                                                                  (&#x27;scaler&#x27;,\n",
              "                                                                   StandardScaler())]),\n",
              "                                                  [&#x27;odometer&#x27;, &#x27;year&#x27;]),\n",
              "                                                 (&#x27;cat&#x27;,\n",
              "                                                  Pipeline(steps=[(&#x27;imputer&#x27;,\n",
              "                                                                   SimpleImputer(strategy=&#x27;most_frequent&#x27;)),\n",
              "                                                                  (&#x27;onehot&#x27;,\n",
              "                                                                   OneHotEncoder(drop=&#x27;first&#x27;,\n",
              "                                                                                 handle_unknown=&#x27;ignore&#x27;))]),\n",
              "                                                  [&#x27;manufacturer&#x27;, &#x27;model&#x27;,\n",
              "                                                   &#x27;condition&#x27;, &#x27;cylinders&#x27;,\n",
              "                                                   &#x27;fuel&#x27;, &#x27;title_status&#x27;,\n",
              "                                                   &#x27;transmission&#x27;, &#x27;drive&#x27;,\n",
              "                                                   &#x27;size&#x27;, &#x27;type&#x27;,\n",
              "                                                   &#x27;paint_color&#x27;, &#x27;state&#x27;])])),\n",
              "                (&#x27;model&#x27;, RandomForestRegressor(random_state=42))])</pre></div></div></div><div class=\"sk-serial\"><div class=\"sk-item sk-dashed-wrapped\"><div class=\"sk-label-container\"><div class=\"sk-label sk-toggleable\"><input class=\"sk-toggleable__control sk-hidden--visually\" id=\"sk-estimator-id-2\" type=\"checkbox\" ><label for=\"sk-estimator-id-2\" class=\"sk-toggleable__label sk-toggleable__label-arrow\">preprocessor: ColumnTransformer</label><div class=\"sk-toggleable__content\"><pre>ColumnTransformer(transformers=[(&#x27;num&#x27;,\n",
              "                                 Pipeline(steps=[(&#x27;imputer&#x27;, SimpleImputer()),\n",
              "                                                 (&#x27;scaler&#x27;, StandardScaler())]),\n",
              "                                 [&#x27;odometer&#x27;, &#x27;year&#x27;]),\n",
              "                                (&#x27;cat&#x27;,\n",
              "                                 Pipeline(steps=[(&#x27;imputer&#x27;,\n",
              "                                                  SimpleImputer(strategy=&#x27;most_frequent&#x27;)),\n",
              "                                                 (&#x27;onehot&#x27;,\n",
              "                                                  OneHotEncoder(drop=&#x27;first&#x27;,\n",
              "                                                                handle_unknown=&#x27;ignore&#x27;))]),\n",
              "                                 [&#x27;manufacturer&#x27;, &#x27;model&#x27;, &#x27;condition&#x27;,\n",
              "                                  &#x27;cylinders&#x27;, &#x27;fuel&#x27;, &#x27;title_status&#x27;,\n",
              "                                  &#x27;transmission&#x27;, &#x27;drive&#x27;, &#x27;size&#x27;, &#x27;type&#x27;,\n",
              "                                  &#x27;paint_color&#x27;, &#x27;state&#x27;])])</pre></div></div></div><div class=\"sk-parallel\"><div class=\"sk-parallel-item\"><div class=\"sk-item\"><div class=\"sk-label-container\"><div class=\"sk-label sk-toggleable\"><input class=\"sk-toggleable__control sk-hidden--visually\" id=\"sk-estimator-id-3\" type=\"checkbox\" ><label for=\"sk-estimator-id-3\" class=\"sk-toggleable__label sk-toggleable__label-arrow\">num</label><div class=\"sk-toggleable__content\"><pre>[&#x27;odometer&#x27;, &#x27;year&#x27;]</pre></div></div></div><div class=\"sk-serial\"><div class=\"sk-item\"><div class=\"sk-serial\"><div class=\"sk-item\"><div class=\"sk-estimator sk-toggleable\"><input class=\"sk-toggleable__control sk-hidden--visually\" id=\"sk-estimator-id-4\" type=\"checkbox\" ><label for=\"sk-estimator-id-4\" class=\"sk-toggleable__label sk-toggleable__label-arrow\">SimpleImputer</label><div class=\"sk-toggleable__content\"><pre>SimpleImputer()</pre></div></div></div><div class=\"sk-item\"><div class=\"sk-estimator sk-toggleable\"><input class=\"sk-toggleable__control sk-hidden--visually\" id=\"sk-estimator-id-5\" type=\"checkbox\" ><label for=\"sk-estimator-id-5\" class=\"sk-toggleable__label sk-toggleable__label-arrow\">StandardScaler</label><div class=\"sk-toggleable__content\"><pre>StandardScaler()</pre></div></div></div></div></div></div></div></div><div class=\"sk-parallel-item\"><div class=\"sk-item\"><div class=\"sk-label-container\"><div class=\"sk-label sk-toggleable\"><input class=\"sk-toggleable__control sk-hidden--visually\" id=\"sk-estimator-id-6\" type=\"checkbox\" ><label for=\"sk-estimator-id-6\" class=\"sk-toggleable__label sk-toggleable__label-arrow\">cat</label><div class=\"sk-toggleable__content\"><pre>[&#x27;manufacturer&#x27;, &#x27;model&#x27;, &#x27;condition&#x27;, &#x27;cylinders&#x27;, &#x27;fuel&#x27;, &#x27;title_status&#x27;, &#x27;transmission&#x27;, &#x27;drive&#x27;, &#x27;size&#x27;, &#x27;type&#x27;, &#x27;paint_color&#x27;, &#x27;state&#x27;]</pre></div></div></div><div class=\"sk-serial\"><div class=\"sk-item\"><div class=\"sk-serial\"><div class=\"sk-item\"><div class=\"sk-estimator sk-toggleable\"><input class=\"sk-toggleable__control sk-hidden--visually\" id=\"sk-estimator-id-7\" type=\"checkbox\" ><label for=\"sk-estimator-id-7\" class=\"sk-toggleable__label sk-toggleable__label-arrow\">SimpleImputer</label><div class=\"sk-toggleable__content\"><pre>SimpleImputer(strategy=&#x27;most_frequent&#x27;)</pre></div></div></div><div class=\"sk-item\"><div class=\"sk-estimator sk-toggleable\"><input class=\"sk-toggleable__control sk-hidden--visually\" id=\"sk-estimator-id-8\" type=\"checkbox\" ><label for=\"sk-estimator-id-8\" class=\"sk-toggleable__label sk-toggleable__label-arrow\">OneHotEncoder</label><div class=\"sk-toggleable__content\"><pre>OneHotEncoder(drop=&#x27;first&#x27;, handle_unknown=&#x27;ignore&#x27;)</pre></div></div></div></div></div></div></div></div></div></div><div class=\"sk-item\"><div class=\"sk-estimator sk-toggleable\"><input class=\"sk-toggleable__control sk-hidden--visually\" id=\"sk-estimator-id-9\" type=\"checkbox\" ><label for=\"sk-estimator-id-9\" class=\"sk-toggleable__label sk-toggleable__label-arrow\">RandomForestRegressor</label><div class=\"sk-toggleable__content\"><pre>RandomForestRegressor(random_state=42)</pre></div></div></div></div></div></div></div>"
            ]
          },
          "metadata": {},
          "execution_count": 11
        }
      ],
      "source": [
        "# Train the model\n",
        "model_pipeline.fit(X_train, y_train)"
      ]
    },
    {
      "cell_type": "code",
      "execution_count": 12,
      "metadata": {
        "colab": {
          "base_uri": "https://localhost:8080/"
        },
        "id": "EwZ_1660rhm0",
        "outputId": "5793ceeb-9a53-4aed-870a-ca8b22f72817"
      },
      "outputs": [
        {
          "output_type": "stream",
          "name": "stderr",
          "text": [
            "/usr/local/lib/python3.10/dist-packages/sklearn/preprocessing/_encoders.py:202: UserWarning: Found unknown categories in columns [0, 1] during transform. These unknown categories will be encoded as all zeros\n",
            "  warnings.warn(\n"
          ]
        }
      ],
      "source": [
        "# Step 5: Model Evaluation\n",
        "# Make predictions\n",
        "y_pred = model_pipeline.predict(X_test)"
      ]
    },
    {
      "cell_type": "code",
      "execution_count": 13,
      "metadata": {
        "colab": {
          "base_uri": "https://localhost:8080/"
        },
        "id": "cGpgR_G3rntc",
        "outputId": "c42721ad-52e4-475c-a42c-9650267da0b3"
      },
      "outputs": [
        {
          "output_type": "stream",
          "name": "stdout",
          "text": [
            "MAE: 7026.099750000001\n",
            "MSE: 204428440.8941315\n",
            "RMSE: 14297.847421697139\n",
            "R-squared: 0.36021078734025846\n"
          ]
        }
      ],
      "source": [
        "# Evaluate the model\n",
        "mae = mean_absolute_error(y_test, y_pred)\n",
        "mse = mean_squared_error(y_test, y_pred)\n",
        "rmse = mean_squared_error(y_test, y_pred, squared=False)\n",
        "r2 = r2_score(y_test, y_pred)\n",
        "\n",
        "print(f'MAE: {mae}')\n",
        "print(f'MSE: {mse}')\n",
        "print(f'RMSE: {rmse}')\n",
        "print(f'R-squared: {r2}')"
      ]
    },
    {
      "cell_type": "code",
      "execution_count": 14,
      "metadata": {
        "id": "RX7z0JsmrtX8"
      },
      "outputs": [],
      "source": [
        "# Step 6: Prediction\n",
        "def predict_price(input_data):\n",
        "    # Convert input_data to a DataFrame\n",
        "    input_df = pd.DataFrame([input_data])\n",
        "    # Use the model pipeline to preprocess and predict\n",
        "    prediction = model_pipeline.predict(input_df)\n",
        "    return prediction[0]"
      ]
    },
    {
      "cell_type": "code",
      "execution_count": 15,
      "metadata": {
        "id": "fqv1U3kprxOD"
      },
      "outputs": [],
      "source": [
        "# Extract feature names from the column transformer\n",
        "def get_feature_names(preprocessor):\n",
        "    feature_names = []\n",
        "    for name, trans, column in preprocessor.transformers_:\n",
        "        if hasattr(trans, 'named_steps'):  # This means trans is a Pipeline\n",
        "            if 'onehot' in trans.named_steps:\n",
        "                onehot_encoder = trans.named_steps['onehot']\n",
        "                feature_names.extend(onehot_encoder.get_feature_names_out(column))\n",
        "            else:\n",
        "                feature_names.extend(column)\n",
        "        else:\n",
        "            feature_names.extend(column)\n",
        "    return feature_names"
      ]
    },
    {
      "cell_type": "code",
      "execution_count": 16,
      "metadata": {
        "colab": {
          "base_uri": "https://localhost:8080/"
        },
        "id": "ZT8fA8LSr1GD",
        "outputId": "33e85747-b5c4-41ce-f6dd-90e055024466"
      },
      "outputs": [
        {
          "output_type": "stream",
          "name": "stdout",
          "text": [
            "Feature names: ['odometer', 'year', 'manufacturer_alfa-romeo', 'manufacturer_audi', 'manufacturer_bmw', 'manufacturer_buick', 'manufacturer_cadillac', 'manufacturer_chevrolet', 'manufacturer_chrysler', 'manufacturer_dodge', 'manufacturer_fiat', 'manufacturer_ford', 'manufacturer_gmc', 'manufacturer_honda', 'manufacturer_hyundai', 'manufacturer_infiniti', 'manufacturer_jaguar', 'manufacturer_jeep', 'manufacturer_kia', 'manufacturer_lexus', 'manufacturer_lincoln', 'manufacturer_mazda', 'manufacturer_mercedes-benz', 'manufacturer_mercury', 'manufacturer_mini', 'manufacturer_mitsubishi', 'manufacturer_nissan', 'manufacturer_pontiac', 'manufacturer_porsche', 'manufacturer_ram', 'manufacturer_rover', 'manufacturer_saturn', 'manufacturer_subaru', 'manufacturer_tesla', 'manufacturer_toyota', 'manufacturer_volkswagen', 'manufacturer_volvo', 'model_09 HONDS ODYSSEY EXL', 'model_128i convertible', 'model_135is', 'model_1500', 'model_1500 4x4', 'model_1500 big horn', 'model_1500 classic', 'model_1500 classic quad cab', 'model_1500 crew cab laramie pickup', 'model_1500 crew cab rebel pickup', 'model_1500 express', 'model_1500 express 4x4 gas', 'model_1500 laramie', 'model_1500 laramie 4x4 gas', 'model_1500 laramie big horn', 'model_1500 laramie crew cab short', 'model_1500 laramie longhorn', 'model_1500 laramie longhorn editi', 'model_1500 quad cab slt pickup 4d', 'model_1500 slt 4x4 1/2 ton', 'model_1500 sport 4x4 1/2 ton', 'model_1500 sportextended cab', 'model_1968 speciality', 'model_2', 'model_2 series m240i coupe 2d', 'model_200', 'model_2008 suzuki sx4', 'model_2011', 'model_2014', 'model_2015', 'model_2016', 'model_2500', 'model_2500 4x4', 'model_2500 crew cab', 'model_2500 crew cab laramie picku', 'model_2500 cummins', 'model_2500 diesel 4x4 5.9l cummins turbo diesel quad cab short bed low miles', 'model_2500 longhorn mega 4x4', 'model_2500 tradesman lifted 4wd cummins', 'model_2500hd', 'model_3', 'model_3 s grand touring', 'model_3 series', 'model_3 series 330i xdrive sedan', 'model_3 series 340i sedan 4d', 'model_3 touring', 'model_3.2tl', 'model_300', 'model_300 limited 4dr sedan', 'model_300 limited sedan 4d', 'model_300-series', 'model_300c', 'model_300d 2.5 turbo diesel', 'model_325ci', 'model_325i', 'model_325i sedan', 'model_328i', 'model_330xi xdrive awd sport sedan', 'model_335i', 'model_3500', 'model_3500 big horn', 'model_3500 laramie mega cab', 'model_3500 lcf gas', 'model_3500 slt', 'model_3500 tradesman', 'model_370z sport touring coupe', 'model_370z touring coupe 2d', 'model_3i touring', 'model_4 series', 'model_4 series 430i xdrive', 'model_4 series 440i xdrive gran', 'model_428i xdrive gran coupe', 'model_4runner', 'model_4runner 3rd row seat le', 'model_4runner sr5 premium sport', 'model_4runner sr5 sport utility', 'model_4runner sr5 v6 4x4', 'model_5', 'model_5 series', 'model_5 series 535xi', 'model_5 series 540i xdrive sedan', 'model_5-series', 'model_500', 'model_500 sport', 'model_500e', 'model_500l trekking', 'model_528i', 'model_528xi', 'model_535i', 'model_540i', 'model_5500', 'model_5500 laramie chassis 4x4', 'model_550i m sport', 'model_6 series', 'model_7 series', 'model_ALL MAKES', 'model_AMC ambassador', 'model_ARE 2227VC', 'model_CHRYSLER/ASPEN', 'model_Chewy', 'model_Country Auto', 'model_Explorer', 'model_Feerrari 360 Spider', 'model_Freightliner M2', 'model_Freightliner M2-Tandem', 'model_GENESIS G80', 'model_Genesis G70 2.0T Sedan 4D', 'model_Genesis G80 3.8 Sedan 4D', 'model_HTLD Prowler', 'model_Hummer H3', 'model_ISUZU NPR', 'model_Internatioal 7300', 'model_International', 'model_International TerraStar', 'model_Isuzu Rodeo', 'model_KAWASAKI EX400', 'model_KIA/SORENTO', 'model_MASERATI LEVANTE', 'model_MG MGB', 'model_Maserati Levante', 'model_Mobility Ventures MV-1 SE Wheel', 'model_Nash Lafayette', 'model_Saab 9-5 Series', 'model_Scion FR-S Coupe 2D', 'model_Scion Supercharged TC', 'model_Scion iM Hatchback 4D', 'model_Scion tC', 'model_Scion xB', 'model_Sterling Tractor', 'model_Suzuki cappuccino', 'model_WORKHORSE W42', 'model_YAMAHA YZF-R3', 'model_a4', 'model_a4 ** s line package,', 'model_a4 allroad premium wagon 4d', 'model_a5 premium plus sedan 4d', 'model_a5 quattro', 'model_a6', 'model_a6 2.0t premium sedan 4d', 'model_a6 3.0t quattro sedan 4d', 'model_a7', 'model_acadia limited', 'model_accent gls', 'model_accent gs fwd gas auto', 'model_accord', 'model_accord coupe', 'model_accord cpe', 'model_accord ex', 'model_accord ex 2dr coupe', 'model_accord ex-l', 'model_accord lx', 'model_accord sdn', 'model_accord sport', 'model_ai Santa Fe', 'model_altima', 'model_altima 2.5 sr', 'model_altima 2.5 sv', 'model_altima sl sdn', 'model_altime gle', 'model_american lafrance', 'model_apache', 'model_armada', 'model_atlas', 'model_atlas cross sport sel', 'model_ats', 'model_ats luxury coupe 2d', 'model_avalanche', 'model_avana Cargo Van', 'model_aviator reserve suv', 'model_azera', 'model_b-class electric', 'model_beetle', 'model_beetle 1.8t fleet', 'model_beetle bug', 'model_benz', 'model_benz 300ce', 'model_benz c300', 'model_benz c63 amg', 'model_benz cla 250', 'model_benz clk500 convertible', 'model_benz e350 4matic', 'model_benz ml350', 'model_benz s550 4matic', 'model_benz s560', 'model_blackwood', 'model_bonneville', 'model_bronco', 'model_c class c 300 sport 4matic', 'model_c-class', 'model_c-class c 300', 'model_c-hr xle premium sport', 'model_c10', 'model_c10 pickup', 'model_c10 silverado', 'model_c20', 'model_c4', 'model_c7500', 'model_c8500', 'model_caliber', 'model_caliber heat', 'model_camaro', 'model_camaro lt', 'model_camaro ss coupe 2d', 'model_camaro z28', 'model_camaro zl1', 'model_camry', 'model_camry le', 'model_camry se', 'model_camry xle', 'model_cayman', 'model_cc4500', 'model_century', 'model_challenger', 'model_challenger r/t coupe 2d', 'model_challenger r/t scat pack', 'model_charger', 'model_charger gt plus sedan 4d', 'model_chassis cab', 'model_cherokee', 'model_cherokee latitude', 'model_cherokee latitude 4wd', 'model_cherokee trailhawk sport', 'model_chysler new yorker', 'model_city express', 'model_civic', 'model_civic del sol', 'model_civic ex', 'model_civic hybrid', 'model_civic lx', 'model_civic sdn', 'model_civic sedan ex', 'model_civic si coupe 2d', 'model_civic si sedan 4d', 'model_cj5', 'model_cl63 amg', 'model_classic', 'model_cls', 'model_cls 400 coupe - a', 'model_cls 500', 'model_cls-class cls 63', 'model_coaster bb46', 'model_cobalt', 'model_cobalt 1-lt', 'model_cobalt lt1', 'model_colorado', 'model_colorado crew cab work', 'model_compass', 'model_continental', 'model_continental premiere', 'model_continental select 3.', 'model_continental select sedan', 'model_convertible cooper 2d', 'model_corolla', 'model_corolla le', 'model_corolla s', 'model_corsair reserve sport', 'model_corvette', 'model_corvette coupe 2d', 'model_corvette grand sport', 'model_corvette sting ray', 'model_coupe', 'model_cr-v', 'model_cr-v 2wdlx', 'model_cr-v ex', 'model_cr-v ex-l', 'model_cr-v touring', 'model_crossfire limited', 'model_crossstrek premium', 'model_crosstour ex-l sport', 'model_crosstrek', 'model_crosstrek 2.0i limited', 'model_crosstrek limited', 'model_crosstrek limited awd', 'model_crown victoria police', 'model_cruze', 'model_cruze limited', 'model_cruze ls', 'model_cruze lt', 'model_cruze lt sedan 4d', 'model_crv', 'model_crv ex', 'model_crv lx awd', 'model_ct', 'model_ct 200h premium', 'model_ct5 premium luxury', 'model_ct6 3.6 luxury sedan 4d', 'model_cts', 'model_cts sedan', 'model_cts sedan 4d', 'model_cx-3', 'model_cx-5', 'model_cx-9 grand touring', 'model_dakota', 'model_dakota crew cab st', 'model_dc8', 'model_denali', 'model_deville', 'model_discovery sport se', 'model_doge grand caravan', 'model_durango', 'model_durango citadel', 'model_durango gt sport utility', 'model_durango limited', 'model_e-150', 'model_e-250 xlt econoline van', 'model_e-350', 'model_e-class', 'model_e-class e300', 'model_e-series cargo', 'model_e250', 'model_eclipse cross', 'model_econoline cargo van', 'model_econoline commercial', 'model_econoline commercial cutaway', 'model_ecosport titanium awd', 'model_edge', 'model_edge sport edition', 'model_el camino', 'model_elantra', 'model_elantra gls', 'model_elantra se sedan 4d', 'model_enclave', 'model_enclave avenir sport', 'model_enclave cxl awd', 'model_enclave essence sport', 'model_enclave leather', 'model_enclave leather sport', 'model_encore', 'model_endeavor xls', 'model_envision premium ii', 'model_envoy', 'model_eos sport convertible', 'model_equinox', 'model_equinox ls', 'model_equinox lt', 'model_equinox ltz awd', 'model_equus', 'model_es', 'model_es 300', 'model_es 300h', 'model_es 330', 'model_es 330 sedan', 'model_es 350', 'model_escalade', 'model_escalade premium sport', 'model_escape', 'model_escape se', 'model_escape se suv', 'model_escape xls', 'model_escape xls awd! awd', 'model_escape xlt', 'model_escape xlt 4x4', 'model_escape xlt premium 4wd', 'model_evoque', 'model_excursion', 'model_expedition eddie bauer 4x4', 'model_expedition el limited', 'model_expedition limited 4x4 gas', 'model_explorer', 'model_explorer xlt', 'model_explorer xlt 4x4 gas suv', 'model_express 2500', 'model_express 2500 cargo van', 'model_express cargo', 'model_express commercial cutaway', 'model_f-150', 'model_f-150 4x4 super cab', 'model_f-150 fx4 lifted crew ecoboost 3.5liter', 'model_f-150 king ranch', 'model_f-150 lariat', 'model_f-150 xl', 'model_f-150 xl standard cab', 'model_f-150 xl supercab 6.5-ft.', 'model_f-150 xlt 4dr super crew', 'model_f-150 xlt 4x4', 'model_f-150 xltcrew cab', 'model_f-250', 'model_f-250 sd', 'model_f-250 super duty', 'model_f-250 super duty xlt', 'model_f-250 supercab', 'model_f-250sd', 'model_f-350', 'model_f-350 lariat 6.7 diesel', 'model_f-350 sd', 'model_f-350 super duty', 'model_f-350 xl 4x4', 'model_f-450 sd', 'model_f-450 super duty', 'model_f-550 super duty', 'model_f-650 sd', 'model_f-750', 'model_f-pace 25t premium sport', 'model_f-pace 35t premium sport', 'model_f150', 'model_f150 4x4', 'model_f150 fx4', 'model_f150 lariat supercrew 4x4', 'model_f150 platinum 4x4 half ton', 'model_f150 regular cab xl pickup', 'model_f150 super cab xl pickup 4d', 'model_f150 super cab xlt', 'model_f150 supercrew 4x4', 'model_f150 supercrew cab', 'model_f150 supercrew cab xlt', 'model_f150 xl', 'model_f150 xlt 4x4 half ton gas', 'model_f150 xlt sport 4x4 half ton', 'model_f150 xlt xtr 4x4 half ton', 'model_f250', 'model_f250 diesel power stroke', 'model_f250 sd xlt', 'model_f250 super duty', 'model_f250 super duty lariat', 'model_f250 super duty platinum', 'model_f250 super duty xl', 'model_f250 super duty xlt', 'model_f250 xlt', 'model_f350', 'model_f350 super duty', 'model_f350 super duty crew cab', 'model_f450 4x4', 'model_f450 super duty', 'model_f450 utility truck f550', 'model_f450 xl', 'model_f550 4x4', 'model_f550 super duty', 'model_f650', 'model_fiesta', 'model_fiesta se automatic', 'model_fit', 'model_fleetline', 'model_flex 4dr sel fwd', 'model_flex se', 'model_fo', 'model_focus', 'model_focus electric hatchback 4d', 'model_focus lx', 'model_focus st hatchback 4d', 'model_focus st2', 'model_forester', 'model_forester (natl)', 'model_forester 2.5i premium', 'model_forester sport', 'model_forte', 'model_forte 2014', 'model_forte lx', 'model_forte lxs sedan 4d', 'model_freightliner m2', 'model_frontier', 'model_frontier 4x4', 'model_frontier crew cab pro-4x', 'model_frontier king cab', 'model_frontier king cab pro 4x', 'model_frontier king cab sv', 'model_fusion', 'model_fusion hybrid', 'model_fusion s', 'model_fusion se', 'model_fusion titanium', 'model_fuso fh211', 'model_fx37', 'model_g35', 'model_g35 coupe', 'model_g35 sedan', 'model_g37', 'model_g37 sedan', 'model_galant', 'model_genesis', 'model_gla-class gla 45', 'model_gladiator', 'model_glc', 'model_glc 300 sport', 'model_glc-class', 'model_gle 350 4matic', 'model_glk350 4matic awd', 'model_golf', 'model_golf alltrack s awd', 'model_golf alltrack tsi s', 'model_golf gti', 'model_golf gti s hatchback', 'model_golf tsi s hatchback', 'model_grand caravan', 'model_grand caravan rt', 'model_grand caravan se', 'model_grand caravan sxt', 'model_grand caravan sxt wagon', 'model_grand cherokee', 'model_grand cherokee laredo sport', 'model_grand cherokee limited', 'model_grand marquis', 'model_grand prix', 'model_gs', 'model_gs 350', 'model_gti', 'model_gti hatchback sedan', 'model_gti wolfsburg edition', 'model_gx 460', 'model_gx 470 4dr suv', 'model_hardtop', 'model_hhr', 'model_hhr ls', 'model_hhr lt', 'model_highlander', 'model_highlander limited', 'model_hino 268a', 'model_hs', 'model_hs 250 premium', 'model_hyndai santa fe', 'model_ilx', 'model_ilx premium pkg sedan 4d', 'model_ilx technology and a-spec', 'model_impala', 'model_impala lt', 'model_impala lt v6', 'model_impala ss', 'model_impreza', 'model_impreza wagon', 'model_impreza wrx', 'model_impreza wrx sti', 'model_international 4400', 'model_is', 'model_is 250 sedan 4d', 'model_isuzu', 'model_isuzu npr', 'model_jetta', 'model_jetta 1.4 turbo', 'model_jetta 1.4t s sedan 4d', 'model_jetta se', 'model_journey', 'model_journey gt sport utility', 'model_journey se', 'model_journey sxt', 'model_juke', 'model_kenworth t300', 'model_kona', 'model_kona se', 'model_kona ultimate sport', 'model_lacrosse', 'model_lancer', 'model_legacy', 'model_legacy 2.5i pre', 'model_legacy limited', 'model_legacy outback', 'model_lesabre', 'model_liberty', 'model_liberty sport', 'model_lifted silverado 1500', 'model_lifted silverado 3500', 'model_ls', 'model_ls 430', 'model_ls 460 lwb', 'model_ls 460 sedan 4d', 'model_ls600h l', 'model_m-class ml 350', 'model_m3 coupe 2d', 'model_m4 coupe 2d', 'model_macan', 'model_mack cxu612', 'model_malibu', 'model_malibu ls', 'model_malibu ls fwd gas auto', 'model_malibu lt', 'model_malibu ltz', 'model_mariner', 'model_matrix xr', 'model_maxima', 'model_maxima sl*navi*leather*b', 'model_mazda3 i sport', 'model_mazda3 premium sedan 4d', 'model_mazda6', 'model_mazda6 i touring', 'model_mci bus', 'model_mdx', 'model_mdx 3.7l advance package', 'model_mdx advance and', 'model_mdx sh-awd w/advance pkg', 'model_mdx sh-awd w/technology', 'model_mdx technology pkg sport', 'model_mercedes-amg', 'model_mirage g4 le', 'model_mirage g4 rf sedan 4d', 'model_mks', 'model_mkx', 'model_mkx select sport utility', 'model_mkz 4dr sdn fwd', 'model_mkz awd', 'model_mkz premiere sedan 4d', 'model_mkz reserve sedan 4d', 'model_mkz sedan 4d', 'model_ml320 cdi', 'model_ml350', 'model_model 3 standard range', 'model_model a', 'model_model s p85', 'model_model s signature', 'model_model x', 'model_mpv minivan', 'model_murano', 'model_murano sl fwd gas suv', 'model_mustang', 'model_mustang convertible', 'model_mustang ecoboost premium', 'model_mustang gt convertible', 'model_mustang gt coupe 2d', 'model_mustang gt premium', 'model_mustang gt premium coupe 2d', 'model_mustang l', 'model_mustang mach 1', 'model_mustang premium', 'model_mustang roush', 'model_mustang v6 convertible 2d', 'model_mx-5 miata grand touring', 'model_mx5 miata', 'model_n Altima', 'model_navigator', 'model_navigator premiere sport', 'model_new beetle', 'model_niro', 'model_niro lx', 'model_niro lx wagon 4d', 'model_nisaan maxima', 'model_nitro', 'model_nv', 'model_nv200', 'model_nx 200t fwd 4dr', 'model_nx 300 sport utility 4d', 'model_odyssey', 'model_odyssey exl', 'model_odyssey touring', 'model_oldsmobile cutlass', 'model_oldsmobile dynamic 88', 'model_olet Spark', 'model_optima', 'model_other', 'model_outback', 'model_outback 2.5i limited', 'model_outback l.l. bean editio', 'model_outback limited awd', 'model_outlander es sport', 'model_outlander phev sel', 'model_outlander sport', 'model_outlander sport es', 'model_pacifica', 'model_pacifica touring', 'model_pacifica touring l plus', 'model_panel truck', 'model_paseo', 'model_passat', 'model_passat tdi', 'model_pathfinder sl', 'model_patriot', 'model_patriot 4x4', 'model_patriot sport', 'model_peterbilt 579', 'model_pickup 2500', 'model_pilot', 'model_pilot ex with leather and', 'model_pilot ex-l', 'model_prius', 'model_promaster city cargo', 'model_promaster city cargo van', 'model_pt cruiser', 'model_pt cruiser limited', 'model_q3 s line premium plus', 'model_q5', 'model_q5 3.0t premium plus sport', 'model_q5 premium plus', 'model_q50 3.0t luxe sedan 4d', 'model_q50 3.0t sport', 'model_q7 3.0t premuim plus', 'model_q7 tdi prestige sport', 'model_quest', 'model_qx50', 'model_qx50 luxe sport utility', 'model_qx50 sport utility 4d', 'model_qx56', 'model_qx60', 'model_qx60 3.5 sport utility', 'model_qx60 luxe sport utility', 'model_qx80', 'model_ranger', 'model_ranger fx4 off-road 4wd!', 'model_ranger supercab xl pickup', 'model_ranger supercrew xlt pickup', 'model_ranger xlt', 'model_rav4', 'model_rav4 hybrid xse sport', 'model_rav4 le', 'model_rav4 limited', 'model_rdx', 'model_regal premium ii sedan 4d', 'model_regal sportback preferred', 'model_rendezvous', 'model_renegade deserthawk sport', 'model_renegade latitude', 'model_ridgeline', 'model_ridgeline rtl pickup 4d 5', 'model_ridgeline sport pickup 4d', 'model_rio', 'model_rogue', 'model_rogue s!', 'model_rogue select', 'model_rogue sv awd', 'model_romeo giulia sedan 4d', 'model_romeo giulia ti sedan 4d', 'model_romeo stelvio sport utility', 'model_rx', 'model_rx 350', 'model_rx 350 f sport', 'model_rx350', 'model_rx400h awd hybrid', 'model_s-10', 'model_s-class s 550', 'model_s/w', 'model_s10 pickup', 'model_s4 3.0t premium plus', 'model_s4 premium plus sedan 4d', 'model_s5 premium plus sedan 4d', 'model_s5 prestige sedan 4d', 'model_s60 all wheel drive', 'model_s60 t6 momentum sedan 4d', 'model_saab 9-3', 'model_saab 9-5', 'model_sable luxury', 'model_santa fe', 'model_santa fe limited', 'model_santa fe se', 'model_santa fe sport', 'model_savana', 'model_sc2', 'model_scion iq', 'model_scion tc', 'model_scion xa', 'model_scion xd', 'model_scottsdale', 'model_sebring', 'model_sedona', 'model_sedona ex', 'model_sedona sx minivan 4d', 'model_sentra', 'model_sentra s', 'model_sentra sl', 'model_sentra sv cvt', 'model_sentra sv sedan 4d', 'model_series 62', 'model_sienna', 'model_sierra', 'model_sierra 1500', 'model_sierra 1500 crew cab slt', 'model_sierra 1500 denali 4x4 gas', 'model_sierra 1500 double cab sle', 'model_sierra 1500 double cab slt', 'model_sierra 1500 extended cab slt', 'model_sierra 1500 hybrid', 'model_sierra 1500 limited double', 'model_sierra 1500 regular cab', 'model_sierra 1500 sle', 'model_sierra 1500 slt', 'model_sierra 2500', 'model_sierra 2500 slt', 'model_sierra 2500hd', 'model_sierra 2500hd denali', 'model_sierra 2500hd slt', 'model_sierra 3500', 'model_sierra 3500 duramax diesel', 'model_sierra 3500 hd crew cab slt', 'model_sierra 3500hd', 'model_sierra 4x4', 'model_sierra denali', 'model_sierra diesels duramax 3500', 'model_silverado', 'model_silverado 1500', 'model_silverado 1500 crew', 'model_silverado 1500 double', 'model_silverado 1500 ld', 'model_silverado 1500 ls ext. cab long bed 4wd 4-speed au', 'model_silverado 1500 lt z71', 'model_silverado 1500 regular', 'model_silverado 2500 hd', 'model_silverado 2500 hd crew', 'model_silverado 2500 hd crew cab', 'model_silverado 2500 high ct', 'model_silverado 2500 lt', 'model_silverado 2500 ltz lifted crew 4wd', 'model_silverado 2500hd', 'model_silverado 2500hd z71', 'model_silverado 3500 high c', 'model_silverado 3500hd', 'model_silverado 3500hd ltz', 'model_silverado lt z71 4x4', 'model_silverado z71', 'model_sl-class', 'model_sl600', 'model_smart fortwo passion', 'model_solara', 'model_sonata', 'model_sonata limited', 'model_sonata plug-in hybrid', 'model_sonata se sedan 4d', 'model_sonata sel sedan 4d', 'model_sonic', 'model_sonic lt turbo', 'model_sonoma', 'model_sorento', 'model_sorento sx sport utility 4d', 'model_soul', 'model_soul base', 'model_soul x-line wagon 4d', 'model_spark', 'model_sport', 'model_sport coupe', 'model_sport supercharged', 'model_sportage', 'model_sportage lx 2wd at', 'model_sprinter', 'model_sprinter 2500', 'model_sprinter cargo van', 'model_srx', 'model_ss sedan 4d', 'model_station wagon', 'model_stealth tt', 'model_stratus', 'model_suburban', 'model_suburban lt', 'model_suburban ltz', 'model_super duty', 'model_super duty f-250', 'model_super duty f-250 srw', 'model_super duty f-350 drw', 'model_super duty f-350 srw', 'model_super duty f-450 pickup', 'model_super duty f-550 drw', 'model_super duty f350 drw xlt', 'model_suzuki grand vitara', 'model_t&c touring-l', 'model_tacoma', 'model_tacoma 4x4', 'model_tacoma access cab pickup', 'model_tacoma access cab sr', 'model_tacoma access cab trd', 'model_tacoma double cab pickup', 'model_tacoma prerunner rwd gas', 'model_tacoma sr5 2.7l 4x4', 'model_tacoma trd sport', 'model_tacoma trd sport v6crew', 'model_taho lt', 'model_tahoe', 'model_tahoe 4x4', 'model_tahoe ltz', 'model_tahoe premier 4x4 gas', 'model_taurus', 'model_taurus limited', 'model_taurus se', 'model_terrain', 'model_terrain sle', 'model_terrain sle-2 *fr $499 down guaranteed finance awd', 'model_thing', 'model_thunderbird', 'model_thunderbird convertible', 'model_tiguan limited 2.0t', 'model_titan', 'model_titan pro-4x', 'model_tlx', 'model_town & country', 'model_town & country touring', 'model_town and country', 'model_town country touring', 'model_trailblazer', 'model_trailblazer 4wd', 'model_trailblazer ltz', 'model_transit', 'model_transit cargo', 'model_transit cargo 250', 'model_transit connect', 'model_transit t250', 'model_traverse', 'model_traverse ls', 'model_traverse lt', 'model_traverse ltz', 'model_traverse ltz awd', 'model_trax', 'model_trax ls', 'model_trax ls sport utility', 'model_trax lt', 'model_tribeca 7-pass special', 'model_tribute s', 'model_truck', 'model_tsx', 'model_tsx base', 'model_tt roadster', 'model_tucson', 'model_tudor', 'model_tundra', 'model_tundra 2wd truck', 'model_tundra 4wd sr5', 'model_tundra crewmax pickup 4d', 'model_tundra crewmax sr5 pickup', 'model_tundra double cab sr', 'model_uplander cargo', 'model_uplander lt', 'model_v60 cross country', 'model_van', 'model_veloster', 'model_veloster turbo r-spec', 'model_venza awd xle', 'model_verano sport touring', 'model_versa', 'model_versa 1.8 s', 'model_vnl670', 'model_vue', 'model_w100', 'model_wrangler', 'model_wrangler 4x4', 'model_wrangler jk sahara', 'model_wrangler rubicon sport', 'model_wrangler sport', 'model_wrangler sport suv 2d', 'model_wrangler unlimited', 'model_wrangler unlimited all new', 'model_wrangler unlimited rubicon', 'model_wrangler unlimited sahara', 'model_wrangler unlimited sport', 'model_wrangler x', 'model_wrx', 'model_wrx sti', 'model_wrx sti sedan 4d', 'model_x-type', 'model_x3', 'model_x5', 'model_x5 xdrive', 'model_x5 xdrive35i', 'model_x5 xdrive35i sport utility', 'model_x6 xdrive35i sport utility', 'model_xc60', 'model_xc90', 'model_xe 25t premium sedan 4d', 'model_xe 35t r-sport sedan 4d', 'model_xj', 'model_xj8', 'model_xt4 premium luxury', 'model_xt4 sport suv 4d', 'model_xt5 premium luxury', 'model_xterra', 'model_xts', 'model_xts luxury collection', 'model_xv crosstrek', 'model_xv crosstrek 2.0i premium', 'model_yaris', 'model_yukon', 'model_yukon denali awd', 'model_yukon denali sport utility', 'model_yukon denali xl', 'model_yukon sle suv', 'model_yukon xl', 'model_yukon xl denali', 'model_z4', 'condition_fair', 'condition_good', 'condition_like new', 'condition_new', 'condition_salvage', 'cylinders_12 cylinders', 'cylinders_3 cylinders', 'cylinders_4 cylinders', 'cylinders_5 cylinders', 'cylinders_6 cylinders', 'cylinders_8 cylinders', 'cylinders_other', 'fuel_electric', 'fuel_gas', 'fuel_hybrid', 'fuel_other', 'title_status_lien', 'title_status_missing', 'title_status_rebuilt', 'title_status_salvage', 'transmission_manual', 'transmission_other', 'drive_fwd', 'drive_rwd', 'size_full-size', 'size_mid-size', 'size_sub-compact', 'type_bus', 'type_convertible', 'type_coupe', 'type_hatchback', 'type_mini-van', 'type_offroad', 'type_other', 'type_pickup', 'type_sedan', 'type_truck', 'type_van', 'type_wagon', 'paint_color_blue', 'paint_color_brown', 'paint_color_custom', 'paint_color_green', 'paint_color_grey', 'paint_color_orange', 'paint_color_purple', 'paint_color_red', 'paint_color_silver', 'paint_color_white', 'paint_color_yellow', 'state_al', 'state_ar', 'state_az', 'state_ca', 'state_co', 'state_ct', 'state_dc', 'state_de', 'state_fl', 'state_ga', 'state_hi', 'state_ia', 'state_id', 'state_il', 'state_in', 'state_ks', 'state_ky', 'state_la', 'state_ma', 'state_md', 'state_me', 'state_mi', 'state_mn', 'state_mo', 'state_ms', 'state_mt', 'state_nc', 'state_nd', 'state_ne', 'state_nh', 'state_nj', 'state_nm', 'state_nv', 'state_ny', 'state_oh', 'state_ok', 'state_or', 'state_pa', 'state_ri', 'state_sc', 'state_sd', 'state_tn', 'state_tx', 'state_ut', 'state_va', 'state_vt', 'state_wa', 'state_wi', 'state_wv', 'state_wy']\n"
          ]
        }
      ],
      "source": [
        "# Get the feature names\n",
        "feature_names = get_feature_names(preprocessor)\n",
        "print(f'Feature names: {feature_names}')"
      ]
    },
    {
      "cell_type": "code",
      "execution_count": 17,
      "metadata": {
        "id": "NLyW0BTyr48E"
      },
      "outputs": [],
      "source": [
        "# Example input\n",
        "example_input = {\n",
        "    'odometer': 50000,\n",
        "    'year': 2019,\n",
        "    'manufacturer': 'Toyota',\n",
        "    'model': 'Camry',\n",
        "    'condition': 'Excellent',\n",
        "    'cylinders': '4 cylinders',\n",
        "    'fuel': 'Gas',\n",
        "    'title_status': 'Clean',\n",
        "    'transmission': 'Automatic',\n",
        "    'drive': '4WD',\n",
        "    'size': 'Full-size',\n",
        "    'type': 'SUV',\n",
        "    'paint_color': 'Black',\n",
        "    'state': 'CA'\n",
        "}"
      ]
    },
    {
      "cell_type": "code",
      "execution_count": 18,
      "metadata": {
        "colab": {
          "base_uri": "https://localhost:8080/"
        },
        "id": "34Hr8akbr-KF",
        "outputId": "7533ed88-be3a-466e-dcb6-86ff9f058e01"
      },
      "outputs": [
        {
          "output_type": "stream",
          "name": "stdout",
          "text": [
            "Predicted price: $23656.18\n"
          ]
        },
        {
          "output_type": "stream",
          "name": "stderr",
          "text": [
            "/usr/local/lib/python3.10/dist-packages/sklearn/preprocessing/_encoders.py:202: UserWarning: Found unknown categories in columns [0, 1, 2, 4, 5, 6, 7, 8, 10, 11] during transform. These unknown categories will be encoded as all zeros\n",
            "  warnings.warn(\n"
          ]
        }
      ],
      "source": [
        "# Ensure the example input includes all necessary features\n",
        "input_df = pd.DataFrame([example_input], columns=feature_names)\n",
        "predicted_price = predict_price(example_input)\n",
        "print(f'Predicted price: ${predicted_price}')"
      ]
    },
    {
      "cell_type": "code",
      "execution_count": 19,
      "metadata": {
        "colab": {
          "base_uri": "https://localhost:8080/"
        },
        "id": "3kFrgeHysEwM",
        "outputId": "1e4dea6b-368e-40e8-bfe5-f8d7773a5416"
      },
      "outputs": [
        {
          "output_type": "stream",
          "name": "stdout",
          "text": [
            "                          Feature    Importance\n",
            "0                        odometer  2.079064e-01\n",
            "1                            year  1.702130e-01\n",
            "1007                     fuel_gas  5.304343e-02\n",
            "1016                    drive_fwd  3.636587e-02\n",
            "296      model_corvette sting ray  2.002446e-02\n",
            "...                           ...           ...\n",
            "654              model_new beetle  9.213365e-09\n",
            "939                     model_van  8.630324e-09\n",
            "471                      model_fo  8.034386e-09\n",
            "89    model_300d 2.5 turbo diesel  1.621460e-10\n",
            "309   model_crosstrek limited awd  0.000000e+00\n",
            "\n",
            "[1094 rows x 2 columns]\n"
          ]
        }
      ],
      "source": [
        "# Advanced Techniques: Feature Importance, Hyperparameter Tuning, Cross-Validation\n",
        "# Feature importance\n",
        "importances = model_pipeline.named_steps['model'].feature_importances_\n",
        "feature_importance_df = pd.DataFrame({'Feature': feature_names, 'Importance': importances})\n",
        "feature_importance_df.sort_values(by='Importance', ascending=False, inplace=True)\n",
        "print(feature_importance_df)"
      ]
    },
    {
      "cell_type": "code",
      "execution_count": 20,
      "metadata": {
        "colab": {
          "base_uri": "https://localhost:8080/"
        },
        "id": "5q1AAkSBsHGb",
        "outputId": "19fd83e6-36f2-49b2-d659-8bbf6ac3a9b8"
      },
      "outputs": [
        {
          "output_type": "stream",
          "name": "stdout",
          "text": [
            "Fitting 3 folds for each of 108 candidates, totalling 324 fits\n",
            "{'model__max_depth': 30, 'model__min_samples_leaf': 1, 'model__min_samples_split': 2, 'model__n_estimators': 100}\n"
          ]
        }
      ],
      "source": [
        "# Hyperparameter tuning (example: using GridSearchCV)\n",
        "from sklearn.model_selection import GridSearchCV\n",
        "\n",
        "param_grid = {\n",
        "    'model__n_estimators': [100, 200, 300],\n",
        "    'model__max_depth': [None, 10, 20, 30],\n",
        "    'model__min_samples_split': [2, 5, 10],\n",
        "    'model__min_samples_leaf': [1, 2, 4]\n",
        "}\n",
        "\n",
        "grid_search = GridSearchCV(estimator=model_pipeline, param_grid=param_grid, cv=3, n_jobs=-1, verbose=2)\n",
        "grid_search.fit(X_train, y_train)\n",
        "best_model = grid_search.best_estimator_\n",
        "print(grid_search.best_params_)"
      ]
    },
    {
      "cell_type": "code",
      "execution_count": 21,
      "metadata": {
        "id": "2c62L-CcsMNb",
        "colab": {
          "base_uri": "https://localhost:8080/"
        },
        "outputId": "43c073f7-f99b-409c-979e-faca22fd6058"
      },
      "outputs": [
        {
          "output_type": "stream",
          "name": "stderr",
          "text": [
            "/usr/local/lib/python3.10/dist-packages/sklearn/preprocessing/_encoders.py:202: UserWarning: Found unknown categories in columns [1, 5] during transform. These unknown categories will be encoded as all zeros\n",
            "  warnings.warn(\n",
            "/usr/local/lib/python3.10/dist-packages/sklearn/preprocessing/_encoders.py:202: UserWarning: Found unknown categories in columns [0, 1, 3, 11] during transform. These unknown categories will be encoded as all zeros\n",
            "  warnings.warn(\n",
            "/usr/local/lib/python3.10/dist-packages/sklearn/preprocessing/_encoders.py:202: UserWarning: Found unknown categories in columns [1, 9, 10] during transform. These unknown categories will be encoded as all zeros\n",
            "  warnings.warn(\n",
            "/usr/local/lib/python3.10/dist-packages/sklearn/preprocessing/_encoders.py:202: UserWarning: Found unknown categories in columns [1, 11] during transform. These unknown categories will be encoded as all zeros\n",
            "  warnings.warn(\n"
          ]
        },
        {
          "output_type": "stream",
          "name": "stdout",
          "text": [
            "Cross-validation scores: [0.51694779 0.34204482 0.33966633 0.46947178 0.36605822]\n",
            "Average cross-validation score: 0.40683778958611255\n"
          ]
        },
        {
          "output_type": "stream",
          "name": "stderr",
          "text": [
            "/usr/local/lib/python3.10/dist-packages/sklearn/preprocessing/_encoders.py:202: UserWarning: Found unknown categories in columns [1] during transform. These unknown categories will be encoded as all zeros\n",
            "  warnings.warn(\n"
          ]
        }
      ],
      "source": [
        "# Cross-validation\n",
        "from sklearn.model_selection import cross_val_score\n",
        "\n",
        "cv_scores = cross_val_score(best_model, X, y, cv=5)\n",
        "print(f'Cross-validation scores: {cv_scores}')\n",
        "print(f'Average cross-validation score: {cv_scores.mean()}')"
      ]
    }
  ],
  "metadata": {
    "colab": {
      "provenance": []
    },
    "kernelspec": {
      "display_name": "Python 3",
      "name": "python3"
    },
    "language_info": {
      "name": "python"
    }
  },
  "nbformat": 4,
  "nbformat_minor": 0
}